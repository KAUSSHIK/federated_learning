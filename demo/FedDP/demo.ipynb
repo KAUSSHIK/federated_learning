{
 "cells": [
  {
   "attachments": {},
   "cell_type": "markdown",
   "metadata": {},
   "source": [
    "# FedLib: Heterogeneous Federated Learning using Dynamic Model Pruning and Adaptive Gradient"
   ]
  },
  {
   "cell_type": "markdown",
   "metadata": {},
   "source": [
    "## Importing supportive libaries\n",
    "This notebook shows a demo on PyTorch back-end model impelementation.\n",
    "\n",
    "In the very begining, we import the supporting libraries."
   ]
  },
  {
   "cell_type": "code",
   "execution_count": null,
   "metadata": {},
   "outputs": [],
   "source": [
    "import torch\n",
    "import numpy as np\n",
    "import copy\n",
    "\n",
    "from fedlib.ve import FEDDFEnv as Simulator\n",
    "from fedlib.lib import Server, Client\n",
    "from fedlib.networks import resnet20\n",
    "from fedlib.lib.sampler import random_sampler\n",
    "from fedlib.lib.algo import feddp\n",
    "from fedlib.datasets import partition_data, get_dataloader,get_client_dataloader\n",
    "from fedlib.utils import get_logger"
   ]
  },
  {
   "cell_type": "markdown",
   "metadata": {},
   "source": [
    "## Define arguments\n",
    "Here we define arguments. To show an intuitive example, we show the demo store all the parameters in a dictionary in the following code block.\n",
    "We also provide APIs for you create your arguments in a `*.yaml` file."
   ]
  },
  {
   "cell_type": "code",
   "execution_count": null,
   "metadata": {},
   "outputs": [],
   "source": [
    "args = {}\n",
    "args[\"n_clients\"] = 100\n",
    "args[\"device\"] = torch.device('cuda' if torch.cuda.is_available() else 'cpu')\n",
    "args['sample_fn'] = random_sampler\n",
    "args['trainer'] = feddp(logger=get_logger())\n",
    "args['communicator'] = None\n",
    "args[\"test_dataset\"] = None\n",
    "args[\"partition\"] = \"noniid-labeldir\"\n",
    "args[\"dataset\"] = \"cifar10\"\n",
    "args[\"datadir\"] = \"./data\"\n",
    "args[\"beta\"] = 0.5\n",
    "args[\"batch_size\"] = 64\n",
    "args[\"global_model\"] = resnet20()\n",
    "args[\"lr\"] = 0.01\n",
    "args[\"optimizer\"] = \"SGD\"\n",
    "args[\"lr_scheduler\"] = \"ExponentialLR\""
   ]
  },
  {
   "cell_type": "markdown",
   "metadata": {},
   "source": [
    "Load test dataset for server, and passing it as an argument"
   ]
  },
  {
   "cell_type": "code",
   "execution_count": null,
   "metadata": {},
   "outputs": [],
   "source": [
    "X_train, y_train, X_test, y_test, net_dataidx_map, traindata_cls_counts = partition_data(\n",
    "    args[\"dataset\"], args[\"datadir\"], args['partition'], args['n_clients'], beta=args['beta'])\n",
    "n_classes = len(np.unique(y_train))\n",
    "train_dl_global, test_dl_global, train_ds_global, test_ds_global = get_dataloader(args[\"dataset\"],\n",
    "                                                                                    args[\"datadir\"],\n",
    "                                                                                      args[\"batch_size\"],\n",
    "                                                                                      32)\n",
    "args[\"test_dataset\"] = test_dl_global"
   ]
  },
  {
   "cell_type": "markdown",
   "metadata": {},
   "source": [
    "## Create server and clients objects\n",
    "Here we use the arguments we defined before, and create server and clients."
   ]
  },
  {
   "cell_type": "code",
   "execution_count": 11,
   "metadata": {},
   "outputs": [
    {
     "name": "stdout",
     "output_type": "stream",
     "text": [
      "Files already downloaded and verified\n",
      "key: 71 \t, dataid 431 train_ds: 344 test_ds: 87\n",
      "Files already downloaded and verified\n",
      "Files already downloaded and verified\n",
      "key: 72 \t, dataid 636 train_ds: 508 test_ds: 128\n",
      "Files already downloaded and verified\n",
      "Files already downloaded and verified\n",
      "key: 73 \t, dataid 526 train_ds: 420 test_ds: 106\n",
      "Files already downloaded and verified\n"
     ]
    }
   ],
   "source": [
    "server = Server(**args)\n",
    "clients = {}\n",
    "\n",
    "data_loaders, test_loaders = get_client_dataloader(args[\"dataset\"], args[\"datadir\"], args['batch_size'], 32, net_dataidx_map)\n"
   ]
  },
  {
   "cell_type": "code",
   "execution_count": null,
   "metadata": {},
   "outputs": [],
   "source": [
    "\n",
    "\n",
    "for id in range(args[\"n_clients\"]):\n",
    "    # dataidxs = net_dataidx_map[id]\n",
    "    args[\"id\"] = id\n",
    "    # args[\"trainloader\"], _, _, _ = get_dataloader(args[\"dataset\"], args[\"datadir\"], args['batch_size'], 32, dataidxs)\n",
    "    args[\"trainloader\"] = data_loaders[id]\n",
    "    args[\"testloader\"] =test_loaders[id]\n",
    "    args[\"model\"] = copy.deepcopy(args[\"global_model\"])\n",
    "    args['criterion'] = torch.nn.CrossEntropyLoss()\n",
    "    clients[id] = Client(**args)\n",
    "\n",
    "    \n"
   ]
  },
  {
   "cell_type": "markdown",
   "metadata": {},
   "source": [
    "## Create simulator\n",
    "\n",
    "Simulator simulates the virtual federated learning environments, and run server and clients on single device."
   ]
  },
  {
   "cell_type": "code",
   "execution_count": null,
   "metadata": {},
   "outputs": [],
   "source": [
    "simulator = Simulator(server=server, clients=clients, communication_rounds=10,n_clients= 100,sample_rate=.1)"
   ]
  },
  {
   "cell_type": "markdown",
   "metadata": {},
   "source": []
  },
  {
   "cell_type": "markdown",
   "metadata": {},
   "source": [
    "## Run simulator\n",
    "User API Simulator.run"
   ]
  },
  {
   "cell_type": "code",
   "execution_count": null,
   "metadata": {},
   "outputs": [],
   "source": [
    "simulator.run(local_epochs=1,pruning_threshold=1e-3)"
   ]
  },
  {
   "cell_type": "code",
   "execution_count": null,
   "metadata": {},
   "outputs": [],
   "source": []
  },
  {
   "cell_type": "code",
   "execution_count": null,
   "metadata": {},
   "outputs": [],
   "source": []
  }
 ],
 "metadata": {
  "kernelspec": {
   "display_name": "fedlib",
   "language": "python",
   "name": "python3"
  },
  "language_info": {
   "codemirror_mode": {
    "name": "ipython",
    "version": 3
   },
   "file_extension": ".py",
   "mimetype": "text/x-python",
   "name": "python",
   "nbconvert_exporter": "python",
   "pygments_lexer": "ipython3",
   "version": "3.10.8"
  },
  "orig_nbformat": 4,
  "vscode": {
   "interpreter": {
    "hash": "e14599062b2f9b2c02bf607b744cd02923df131fc806bc02ca9049e6dcc66a18"
   }
  }
 },
 "nbformat": 4,
 "nbformat_minor": 2
}
